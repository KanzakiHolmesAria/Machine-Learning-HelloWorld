{
 "cells": [
  {
   "cell_type": "markdown",
   "metadata": {},
   "source": [
    "# 预测下月销售量\n",
    "****\n",
    "**输入：ID：对于一个tuple(商店ID + 商品ID)**  \n",
    "**输出： 销售量([ 0, 20 ])**  \n",
    "**评价指标：RMSE**"
   ]
  },
  {
   "cell_type": "code",
   "execution_count": 1,
   "metadata": {
    "ExecuteTime": {
     "end_time": "2019-08-12T00:51:21.016405Z",
     "start_time": "2019-08-12T00:51:18.836405Z"
    }
   },
   "outputs": [],
   "source": [
    "from itertools import  product\n",
    "import warnings\n",
    "warnings.filterwarnings('ignore')\n",
    "import pandas as pd\n",
    "import numpy as np\n",
    "import matplotlib.pyplot as plt\n",
    "from sklearn.preprocessing import StandardScaler"
   ]
  },
  {
   "cell_type": "markdown",
   "metadata": {},
   "source": [
    "##  数据总览"
   ]
  },
  {
   "cell_type": "code",
   "execution_count": 2,
   "metadata": {
    "ExecuteTime": {
     "end_time": "2019-08-12T00:51:22.660405Z",
     "start_time": "2019-08-12T00:51:21.018405Z"
    }
   },
   "outputs": [],
   "source": [
    "sales_train = pd.read_csv('sales_train_v2.csv')           # 交易日期、日期所属时间段编号、商店编号、商品编号、单价、销售量\n",
    "shops = pd.read_csv('shops.csv')                          # 商店名称、编号\n",
    "item_categories = pd.read_csv('item_categories.csv')      # 类别名称、编号\n",
    "items = pd.read_csv('items.csv')                          # 商品名称、编号、所属类别编号\n",
    "test = pd.read_csv('test.csv')                            # ID：tuple(商店ID， 商品ID)\n",
    "sample_submission = pd.read_csv('sample_submission.csv')  # ID、销售量、销售额"
   ]
  },
  {
   "cell_type": "code",
   "execution_count": 3,
   "metadata": {
    "ExecuteTime": {
     "end_time": "2019-08-12T00:51:22.706405Z",
     "start_time": "2019-08-12T00:51:22.661405Z"
    }
   },
   "outputs": [
    {
     "name": "stdout",
     "output_type": "stream",
     "text": [
      "shops.info()\n",
      "<class 'pandas.core.frame.DataFrame'>\n",
      "RangeIndex: 60 entries, 0 to 59\n",
      "Data columns (total 2 columns):\n",
      "shop_name    60 non-null object\n",
      "shop_id      60 non-null int64\n",
      "dtypes: int64(1), object(1)\n",
      "memory usage: 1.0+ KB\n",
      "----------------------------------------\n",
      "items.info()\n",
      "<class 'pandas.core.frame.DataFrame'>\n",
      "RangeIndex: 22170 entries, 0 to 22169\n",
      "Data columns (total 3 columns):\n",
      "item_name           22170 non-null object\n",
      "item_id             22170 non-null int64\n",
      "item_category_id    22170 non-null int64\n",
      "dtypes: int64(2), object(1)\n",
      "memory usage: 519.7+ KB\n",
      "----------------------------------------\n",
      "item_categories.info()\n",
      "<class 'pandas.core.frame.DataFrame'>\n",
      "RangeIndex: 84 entries, 0 to 83\n",
      "Data columns (total 2 columns):\n",
      "item_category_name    84 non-null object\n",
      "item_category_id      84 non-null int64\n",
      "dtypes: int64(1), object(1)\n",
      "memory usage: 1.4+ KB\n",
      "----------------------------------------\n",
      "sales_train.info()\n",
      "<class 'pandas.core.frame.DataFrame'>\n",
      "RangeIndex: 2935849 entries, 0 to 2935848\n",
      "Data columns (total 6 columns):\n",
      "date              object\n",
      "date_block_num    int64\n",
      "shop_id           int64\n",
      "item_id           int64\n",
      "item_price        float64\n",
      "item_cnt_day      float64\n",
      "dtypes: float64(2), int64(3), object(1)\n",
      "memory usage: 134.4+ MB\n",
      "----------------------------------------\n",
      "test.info()\n",
      "<class 'pandas.core.frame.DataFrame'>\n",
      "RangeIndex: 214200 entries, 0 to 214199\n",
      "Data columns (total 3 columns):\n",
      "ID         214200 non-null int64\n",
      "shop_id    214200 non-null int64\n",
      "item_id    214200 non-null int64\n",
      "dtypes: int64(3)\n",
      "memory usage: 4.9 MB\n"
     ]
    }
   ],
   "source": [
    "print('shops.info()')\n",
    "shops.info()\n",
    "print('-' * 40)\n",
    "print('items.info()')\n",
    "items.info()\n",
    "print('-' * 40)\n",
    "print('item_categories.info()')\n",
    "item_categories.info()\n",
    "print('-' * 40)\n",
    "print('sales_train.info()')\n",
    "sales_train.info()\n",
    "print('-' * 40)\n",
    "print('test.info()')\n",
    "test.info()"
   ]
  },
  {
   "cell_type": "markdown",
   "metadata": {},
   "source": [
    "**发现**：共60家店铺，22170种商品，商品分为84类；样本无缺失值。"
   ]
  },
  {
   "cell_type": "code",
   "execution_count": 4,
   "metadata": {
    "ExecuteTime": {
     "end_time": "2019-08-12T00:51:23.135405Z",
     "start_time": "2019-08-12T00:51:22.707405Z"
    },
    "scrolled": true
   },
   "outputs": [
    {
     "name": "stdout",
     "output_type": "stream",
     "text": [
      "2  2  34  34  34  33  34  34  4  4  33  1  34  20  34  34  34  20  34  34  2  34  34  4  34  34  34  32  34  29  26  34  7  9  16  34  1  34  34  20  11  34  34  25  34  34  34  34  19  23  34  33  34  34  28  30  34  32  32  34  "
     ]
    }
   ],
   "source": [
    "'''\n",
    "gg：每个月份每家商品的总销售量表\n",
    "\n",
    "'''\n",
    "gg = sales_train.groupby(['date_block_num', 'shop_id']).agg({'item_cnt_day':[\"sum\"]}).reset_index()\n",
    "gg.columns = ['date_block_num', 'shop_id', 'sum_item_cnt_day']\n",
    "\n",
    "'''\n",
    "每家店铺有交易记录的月份数\n",
    "\n",
    "'''\n",
    "for i in range(60):\n",
    "    print(gg[gg['shop_id'] == i]['date_block_num'].value_counts().size, end = '  ')"
   ]
  },
  {
   "cell_type": "markdown",
   "metadata": {},
   "source": [
    "**发现**：有些店铺只有某几个月存在交易记录。"
   ]
  },
  {
   "cell_type": "code",
   "execution_count": 5,
   "metadata": {
    "ExecuteTime": {
     "end_time": "2019-08-12T00:51:23.147405Z",
     "start_time": "2019-08-12T00:51:23.138405Z"
    }
   },
   "outputs": [],
   "source": [
    "size_shop = test.groupby(\"shop_id\").size()"
   ]
  },
  {
   "cell_type": "markdown",
   "metadata": {},
   "source": [
    "**发现**：测试集中果然删去了这类不具参考价值的店铺, 删去了18家，剩下共42家店铺。"
   ]
  },
  {
   "cell_type": "code",
   "execution_count": 6,
   "metadata": {
    "ExecuteTime": {
     "end_time": "2019-08-12T00:51:23.168405Z",
     "start_time": "2019-08-12T00:51:23.149405Z"
    }
   },
   "outputs": [],
   "source": [
    "size_item = test.groupby(\"item_id\").size()"
   ]
  },
  {
   "cell_type": "code",
   "execution_count": 7,
   "metadata": {
    "ExecuteTime": {
     "end_time": "2019-08-12T00:51:23.209405Z",
     "start_time": "2019-08-12T00:51:23.174405Z"
    }
   },
   "outputs": [
    {
     "name": "stdout",
     "output_type": "stream",
     "text": [
      "YES\n"
     ]
    }
   ],
   "source": [
    "'''\n",
    "验证是否每家均出售了相同的5100种商品，如果是，则输出YES。（实际上只验证了首尾两家）\n",
    "'''\n",
    "tt = test.sort_values(['shop_id'])\n",
    "tp = tt.tail(5100).sort_values(['item_id'])['item_id'].values  == tt.head(5100).sort_values(['item_id'])['item_id'].values\n",
    "for i in tp:\n",
    "    if i == False:\n",
    "        print('NO')\n",
    "        break\n",
    "print(\"YES\")"
   ]
  },
  {
   "cell_type": "markdown",
   "metadata": {},
   "source": [
    "**发现**：测试集中共有5100种商品，每件商品均有42家店铺卖出，即测试集中的每家店均卖出了这5100种商品。"
   ]
  },
  {
   "cell_type": "markdown",
   "metadata": {
    "ExecuteTime": {
     "end_time": "2019-08-03T05:25:44.355000Z",
     "start_time": "2019-08-03T05:25:24.478000Z"
    },
    "scrolled": false
   },
   "source": [
    "'''\n",
    "按季度分块\n",
    "'''\n",
    "sales_train['date_block_Quarter'] = 0\n",
    "sales_train['date_block_Quarter'][(sales_train['date_block_num'] >= 0) & (sales_train['date_block_num']< 3)] = 0\n",
    "sales_train['date_block_Quarter'][(sales_train['date_block_num'] >= 3) & (sales_train['date_block_num']< 6)] = 1\n",
    "sales_train['date_block_Quarter'][(sales_train['date_block_num'] >= 6) & (sales_train['date_block_num']< 9)] = 2\n",
    "sales_train['date_block_Quarter'][(sales_train['date_block_num'] >= 9) & (sales_train['date_block_num']< 12)] = 3\n",
    "sales_train['date_block_Quarter'][(sales_train['date_block_num'] >= 12) & (sales_train['date_block_num']< 15)] = 4\n",
    "sales_train['date_block_Quarter'][(sales_train['date_block_num'] >= 15) & (sales_train['date_block_num']< 18)] = 5\n",
    "sales_train['date_block_Quarter'][(sales_train['date_block_num'] >= 18) & (sales_train['date_block_num']< 21)] = 6\n",
    "sales_train['date_block_Quarter'][(sales_train['date_block_num'] >= 21) & (sales_train['date_block_num']< 24)] = 7\n",
    "sales_train['date_block_Quarter'][(sales_train['date_block_num'] >= 24) & (sales_train['date_block_num']< 27)] = 8\n",
    "sales_train['date_block_Quarter'][(sales_train['date_block_num'] >= 27) & (sales_train['date_block_num']< 30)] = 9\n",
    "sales_train['date_block_Quarter'][(sales_train['date_block_num'] >= 30) & (sales_train['date_block_num']< 33)] = 10\n",
    "sales_train['date_block_Quarter'][(sales_train['date_block_num'] >= 33) & (sales_train['date_block_num']< 36)] = 11\n",
    "'''\n",
    "按季度网格化，得到该月的本季度所有商店的所有商品当月的销售量\n",
    "'''\n",
    "matrix=[]\n",
    "cols=['date_block_num','shop_id','item_id']\n",
    "for i in range(11):\n",
    "    sales = sales_train[sales_train['date_block_Quarter'] == i]\n",
    "    for j in range(i*3, (i + 1)*3):\n",
    "        matrix.append(np.array(list(product([i],sales.shop_id.unique(),sales.item_id.unique())),dtype='int16'))\n",
    "matrix = pd.DataFrame(np.vstack(matrix), columns=cols)\n",
    "matrix['date_block_num'] = matrix['date_block_num'].astype(np.int8)\n",
    "matrix['shop_id'] = matrix['shop_id'].astype(np.int8)\n",
    "matrix['item_id'] = matrix['item_id'].astype(np.int16)\n",
    "matrix.sort_values(cols,inplace=True)\n",
    "\n",
    "sales_train1 = pd.merge(matrix,sales_train, on =cols ,how ='left')\n",
    "sales_train1.drop(['date', 'date_block_Quarter'], axis=1, inplace=True)"
   ]
  },
  {
   "cell_type": "markdown",
   "metadata": {},
   "source": [
    "## 数据整合\n",
    "**将各个表的信息整合到一张表上，并对测试集和训练集做相同处理，并将测试集和训练集联合为一张表，为特征工程做准备**"
   ]
  },
  {
   "cell_type": "code",
   "execution_count": 8,
   "metadata": {
    "ExecuteTime": {
     "end_time": "2019-08-12T00:51:24.558405Z",
     "start_time": "2019-08-12T00:51:23.211405Z"
    }
   },
   "outputs": [],
   "source": [
    "'''\n",
    "统计不同ID的各月销售量，将同一个月同一家商店的同一个商品的销售记录合并，按月为最小时间单位\n",
    "'''\n",
    "cols = ['shop_id', 'item_id', 'date_block_num']\n",
    "temp = sales_train[['shop_id','item_id', 'date_block_num', 'item_cnt_day']]\n",
    "train = temp.groupby(by=cols)['item_cnt_day'].agg(['sum']).reset_index().rename(columns = {'sum':'item_cnt_month'})\n",
    "train['item_cnt_month'] = train['item_cnt_month'].astype(int).fillna(0)"
   ]
  },
  {
   "cell_type": "code",
   "execution_count": 9,
   "metadata": {
    "ExecuteTime": {
     "end_time": "2019-08-12T00:51:25.032405Z",
     "start_time": "2019-08-12T00:51:24.560405Z"
    }
   },
   "outputs": [],
   "source": [
    "'''\n",
    "改变商品类别名分类\n",
    "'''\n",
    "item_categories['item_category_name'][0] = 0\n",
    "item_categories['item_category_name'][1:8] = 1\n",
    "item_categories['item_category_name'][8] = 2\n",
    "item_categories['item_category_name'][9] = 3\n",
    "item_categories['item_category_name'][10:18] = 4\n",
    "item_categories['item_category_name'][18:32] = 5\n",
    "item_categories['item_category_name'][32:37] = 6\n",
    "item_categories['item_category_name'][37:42] = 7\n",
    "item_categories['item_category_name'][42:55] = 8\n",
    "item_categories['item_category_name'][55:61] = 9\n",
    "item_categories['item_category_name'][61:73] = 10\n",
    "item_categories['item_category_name'][73:79] = 11\n",
    "item_categories['item_category_name'][79:81] = 12\n",
    "item_categories['item_category_name'][81:83] = 13\n",
    "item_categories['item_category_name'][83] = 14\n",
    "item_categories = item_categories.rename(columns={'item_category_name':'new_category_id'})"
   ]
  },
  {
   "cell_type": "code",
   "execution_count": 10,
   "metadata": {
    "ExecuteTime": {
     "end_time": "2019-08-12T00:51:25.562405Z",
     "start_time": "2019-08-12T00:51:25.033405Z"
    }
   },
   "outputs": [],
   "source": [
    "'''\n",
    "加入各商品的类别特征\n",
    "'''\n",
    "train = pd.merge(train, items[['item_id', 'item_category_id']], on = ['item_id'], how = 'left')\n",
    "train = pd.merge(train, item_categories, on = ['item_category_id'], how = 'left')\n",
    "train.drop(['item_category_id'], axis=1, inplace=True)"
   ]
  },
  {
   "cell_type": "code",
   "execution_count": 11,
   "metadata": {
    "ExecuteTime": {
     "end_time": "2019-08-12T00:51:26.631405Z",
     "start_time": "2019-08-12T00:51:25.564405Z"
    }
   },
   "outputs": [],
   "source": [
    "'''\n",
    "选出商店所在城市\n",
    "'''\n",
    "shops['shop_name'][0:2] = 0\n",
    "shops['shop_name'][2] = 1\n",
    "shops['shop_name'][3] = 2\n",
    "shops['shop_name'][4] = 3\n",
    "shops['shop_name'][5] = 4\n",
    "shops['shop_name'][6:9] = 5\n",
    "shops['shop_name'][9] = 6\n",
    "shops['shop_name'][10:12] = 7\n",
    "shops['shop_name'][12] = 8\n",
    "shops['shop_name'][13:15] = 9\n",
    "shops['shop_name'][15] = 10\n",
    "shops['shop_name'][16] = 11\n",
    "shops['shop_name'][17:19] = 12\n",
    "shops['shop_name'][19] = 13\n",
    "shops['shop_name'][20:23] = 14\n",
    "shops['shop_name'][23:25] = 15\n",
    "shops['shop_name'][25:33] = 14\n",
    "shops['shop_name'][33] = 16\n",
    "shops['shop_name'][34:36] = 17\n",
    "shops['shop_name'][36:38] = 18\n",
    "shops['shop_name'][38] = 19\n",
    "shops['shop_name'][39:42] = 20\n",
    "shops['shop_name'][42:44] = 21\n",
    "shops['shop_name'][44:46] = 22\n",
    "shops['shop_name'][46] = 23\n",
    "shops['shop_name'][47] = 24\n",
    "shops['shop_name'][48] = 25\n",
    "shops['shop_name'][49:52] = 26\n",
    "shops['shop_name'][52:54] = 27\n",
    "shops['shop_name'][54] = 28\n",
    "shops['shop_name'][55] = 29\n",
    "shops['shop_name'][56] = 30\n",
    "shops['shop_name'][57:59] = 0\n",
    "shops['shop_name'][59] = 31\n",
    "shops = shops.rename(columns={'shop_name':'shop_city'})"
   ]
  },
  {
   "cell_type": "code",
   "execution_count": 12,
   "metadata": {
    "ExecuteTime": {
     "end_time": "2019-08-12T00:51:26.877405Z",
     "start_time": "2019-08-12T00:51:26.632405Z"
    }
   },
   "outputs": [],
   "source": [
    "'''\n",
    "加入商店城市特征\n",
    "'''\n",
    "train = pd.merge(train, shops[['shop_city', 'shop_id']], on = ['shop_id'], how = 'left')"
   ]
  },
  {
   "cell_type": "code",
   "execution_count": 13,
   "metadata": {
    "ExecuteTime": {
     "end_time": "2019-08-12T00:51:27.009405Z",
     "start_time": "2019-08-12T00:51:26.879405Z"
    }
   },
   "outputs": [],
   "source": [
    "'''\n",
    "对测试集做相同的整合处理\n",
    "'''\n",
    "test['date_block_num'] = 34\n",
    "test = pd.merge(test, items[['item_id', 'item_category_id']], on = ['item_id'], how = 'left')\n",
    "test = pd.merge(test, item_categories, on = ['item_category_id'], how = 'left')\n",
    "test = pd.merge(test, shops, on = ['shop_id'], how = 'left')\n",
    "test.drop('item_category_id', axis=1, inplace=True)\n",
    "test.drop('ID', axis=1, inplace=True)"
   ]
  },
  {
   "cell_type": "code",
   "execution_count": 14,
   "metadata": {
    "ExecuteTime": {
     "end_time": "2019-08-12T00:51:27.158405Z",
     "start_time": "2019-08-12T00:51:27.012405Z"
    }
   },
   "outputs": [],
   "source": [
    "'''\n",
    "合并训练集和测试集\n",
    "'''\n",
    "total = pd.concat([train, test], axis=0)"
   ]
  },
  {
   "cell_type": "markdown",
   "metadata": {},
   "source": [
    "## 特征工程"
   ]
  },
  {
   "cell_type": "code",
   "execution_count": 15,
   "metadata": {
    "ExecuteTime": {
     "end_time": "2019-08-12T00:51:55.123405Z",
     "start_time": "2019-08-12T00:51:27.160405Z"
    }
   },
   "outputs": [],
   "source": [
    "'''\n",
    "计算不同商店的月平均销售量、不同商品的月平均销售量、不同类别商品的月平均销售量\n",
    "'''\n",
    "cols = ['shop_id', 'item_id', 'new_category_id']\n",
    "feature = []\n",
    "for col in cols:\n",
    "    temp = total[['date_block_num', col, 'item_cnt_month']]\n",
    "    temp=temp.groupby(['date_block_num', col])['item_cnt_month'].agg('mean').reset_index().rename(columns ={'item_cnt_month': col + '_cnt_month_mean'})\n",
    "    feature.append(col+'_cnt_month_mean')\n",
    "    total=pd.merge(total, temp,on=['date_block_num']+[col],how = 'left')\n",
    "    \n",
    "#  定义的延时函数\n",
    "def lag(df, shift_range, col):\n",
    "    temp = df[['date_block_num', 'shop_id', 'item_id', col]]\n",
    "    for i in shift_range:\n",
    "        shift = temp.copy()\n",
    "        shift.columns = ['date_block_num', 'shop_id', 'item_id', '{}_{}_lag'.format(col, i)]\n",
    "        shift['date_block_num'] += i\n",
    "        df = pd.merge(df, shift, on = ['date_block_num','shop_id','item_id'],how = 'left')\n",
    "    return df\n",
    "\n",
    "'''\n",
    "将3种特征分别延迟1、2、3、4、6、12月\n",
    "'''\n",
    "shift_range = [1,2,3,4,6,12]\n",
    "for col in feature:\n",
    "    total = lag(total, shift_range, col)"
   ]
  },
  {
   "cell_type": "code",
   "execution_count": 16,
   "metadata": {
    "ExecuteTime": {
     "end_time": "2019-08-12T00:51:55.890405Z",
     "start_time": "2019-08-12T00:51:55.124405Z"
    }
   },
   "outputs": [],
   "source": [
    "'''\n",
    "商品的平均价格可以看做商品的价值\n",
    "'''\n",
    "mean_price = sales_train[['item_id', 'item_price']].groupby(by='item_id')['item_price'].agg(['mean']).reset_index().rename(columns = {'mean':'item_value'})\n",
    "total = pd.merge(total, mean_price, on = ['item_id'], how = 'left')"
   ]
  },
  {
   "cell_type": "code",
   "execution_count": 17,
   "metadata": {
    "ExecuteTime": {
     "end_time": "2019-08-12T00:52:14.511405Z",
     "start_time": "2019-08-12T00:51:55.893405Z"
    }
   },
   "outputs": [],
   "source": [
    "'''\n",
    "统计每条记录的销售额，按月和商店划分为每个商店每个月的销售额，按月和商店和商品划分为每个商店每个商品每个月的销售额\n",
    "'''\n",
    "# 将销售额为负的置0\n",
    "sales_train[sales_train['item_cnt_day'] < 0] = 0\n",
    "\n",
    "# 新增成交额特征\n",
    "sales_train['turnover'] = sales_train['item_price'] * sales_train['item_cnt_day']\n",
    "\n",
    "# 商店每月成交额\n",
    "shop_turnover = sales_train.groupby(['date_block_num', 'shop_id'])['item_price'].agg(['sum']).reset_index().rename(columns={'sum':'shop_turnover_month'})\n",
    "total = pd.merge(total, shop_turnover, on=['date_block_num', 'shop_id'], how = 'left')\n",
    "\n",
    "# 商店商品月成交额\n",
    "item_turnover_per = sales_train.groupby(['date_block_num', 'shop_id', 'item_id'])['item_price'].agg(['sum']).reset_index().rename(columns={'sum':'item_per_turnover_month'})\n",
    "total = pd.merge(total, item_turnover_per, on=['date_block_num', 'shop_id', 'item_id'], how = 'left')\n",
    "\n",
    "'''\n",
    "将2种特征分别延迟1、2、3、4、6、12月\n",
    "'''\n",
    "shift_range = [1,2,3,4,6,12]\n",
    "\n",
    "# 商店成交额时延\n",
    "for i in shift_range:\n",
    "    shop_turnover.columns = ['date_block_num', 'shop_id', 'shop_turnover_{}_lag'.format(i)]\n",
    "    shop_turnover['date_block_num'] += i\n",
    "    total = pd.merge(total, shop_turnover, on = ['date_block_num','shop_id'],how = 'left')\n",
    "    \n",
    "# 商店商品成交额时延\n",
    "for i in shift_range:\n",
    "    item_turnover_per.columns = ['date_block_num', 'shop_id', 'item_id', 'item_turnover_per_{}_lag'.format(i)]\n",
    "    item_turnover_per['date_block_num'] += i\n",
    "    total = pd.merge(total, item_turnover_per, on = ['date_block_num','shop_id', 'item_id'],how = 'left')"
   ]
  },
  {
   "cell_type": "code",
   "execution_count": 18,
   "metadata": {
    "ExecuteTime": {
     "end_time": "2019-08-12T00:52:18.055405Z",
     "start_time": "2019-08-12T00:52:14.513405Z"
    }
   },
   "outputs": [],
   "source": [
    "\n",
    "'''\n",
    "处理缺失值\n",
    "'''\n",
    "# 1. 由于做了延时最长12个月，因此删去前12个月的记录\n",
    "total.drop(total[total.date_block_num.isin(list(range(12)))].index, inplace=True)\n",
    "\n",
    "# 2. 由于第34个月没有当月信息，删去5类当月信息\n",
    "total.drop(['shop_id_cnt_month_mean', 'item_id_cnt_month_mean', 'new_category_id_cnt_month_mean', 'shop_turnover_month', 'item_per_turnover_month'], axis=1, inplace=True)\n",
    "\n",
    "# 3. 将延时记录上次销售量为空的记作0\n",
    "total.fillna(0, inplace=True)\n",
    "\n",
    "'''\n",
    "将销售量为负的记作0\n",
    "'''\n",
    "total[total < 0] = 0"
   ]
  },
  {
   "cell_type": "code",
   "execution_count": 19,
   "metadata": {
    "ExecuteTime": {
     "end_time": "2019-08-12T00:52:18.061405Z",
     "start_time": "2019-08-12T00:52:18.057405Z"
    }
   },
   "outputs": [],
   "source": [
    "# total.info()\n",
    "# total.columns"
   ]
  },
  {
   "cell_type": "code",
   "execution_count": 20,
   "metadata": {
    "ExecuteTime": {
     "end_time": "2019-08-12T00:52:18.594405Z",
     "start_time": "2019-08-12T00:52:18.067405Z"
    },
    "hide_input": false
   },
   "outputs": [],
   "source": [
    "'''\n",
    "划分训练集和提交集（测试集）\n",
    "'''\n",
    "x_train = total[total['date_block_num'] != 34][['date_block_num', 'item_id', 'new_category_id',\n",
    "       'shop_city', 'shop_id', 'shop_id_cnt_month_mean_1_lag',\n",
    "       'shop_id_cnt_month_mean_2_lag', 'shop_id_cnt_month_mean_3_lag',\n",
    "       'shop_id_cnt_month_mean_4_lag', 'shop_id_cnt_month_mean_6_lag',\n",
    "       'shop_id_cnt_month_mean_12_lag', 'item_id_cnt_month_mean_1_lag',\n",
    "       'item_id_cnt_month_mean_2_lag', 'item_id_cnt_month_mean_3_lag',\n",
    "       'item_id_cnt_month_mean_4_lag', 'item_id_cnt_month_mean_6_lag',\n",
    "       'item_id_cnt_month_mean_12_lag', 'new_category_id_cnt_month_mean_1_lag',\n",
    "       'new_category_id_cnt_month_mean_2_lag',\n",
    "       'new_category_id_cnt_month_mean_3_lag',\n",
    "       'new_category_id_cnt_month_mean_4_lag',\n",
    "       'new_category_id_cnt_month_mean_6_lag',\n",
    "       'new_category_id_cnt_month_mean_12_lag', 'item_value',\n",
    "       'shop_turnover_1_lag', 'shop_turnover_2_lag', 'shop_turnover_3_lag',\n",
    "       'shop_turnover_4_lag', 'shop_turnover_6_lag', 'shop_turnover_12_lag',\n",
    "       'item_turnover_per_1_lag', 'item_turnover_per_2_lag',\n",
    "       'item_turnover_per_3_lag', 'item_turnover_per_4_lag',\n",
    "       'item_turnover_per_6_lag', 'item_turnover_per_12_lag']]\n",
    "y_train = total[total['date_block_num'] != 34]['item_cnt_month']\n",
    "\n",
    "x_submission =  total[total['date_block_num'] == 34][['date_block_num', 'item_id', 'new_category_id',\n",
    "       'shop_city', 'shop_id', 'shop_id_cnt_month_mean_1_lag',\n",
    "       'shop_id_cnt_month_mean_2_lag', 'shop_id_cnt_month_mean_3_lag',\n",
    "       'shop_id_cnt_month_mean_4_lag', 'shop_id_cnt_month_mean_6_lag',\n",
    "       'shop_id_cnt_month_mean_12_lag', 'item_id_cnt_month_mean_1_lag',\n",
    "       'item_id_cnt_month_mean_2_lag', 'item_id_cnt_month_mean_3_lag',\n",
    "       'item_id_cnt_month_mean_4_lag', 'item_id_cnt_month_mean_6_lag',\n",
    "       'item_id_cnt_month_mean_12_lag', 'new_category_id_cnt_month_mean_1_lag',\n",
    "       'new_category_id_cnt_month_mean_2_lag',\n",
    "       'new_category_id_cnt_month_mean_3_lag',\n",
    "       'new_category_id_cnt_month_mean_4_lag',\n",
    "       'new_category_id_cnt_month_mean_6_lag',\n",
    "       'new_category_id_cnt_month_mean_12_lag', 'item_value',\n",
    "       'shop_turnover_1_lag', 'shop_turnover_2_lag', 'shop_turnover_3_lag',\n",
    "       'shop_turnover_4_lag', 'shop_turnover_6_lag', 'shop_turnover_12_lag',\n",
    "       'item_turnover_per_1_lag', 'item_turnover_per_2_lag',\n",
    "       'item_turnover_per_3_lag', 'item_turnover_per_4_lag',\n",
    "       'item_turnover_per_6_lag', 'item_turnover_per_12_lag']]"
   ]
  },
  {
   "cell_type": "code",
   "execution_count": 27,
   "metadata": {
    "ExecuteTime": {
     "end_time": "2019-08-12T00:55:53.829405Z",
     "start_time": "2019-08-12T00:55:53.683405Z"
    }
   },
   "outputs": [],
   "source": [
    "x_train = x_train.values\n",
    "y_train = y_traon.values\n",
    "x_submsission = x_submission.values"
   ]
  },
  {
   "cell_type": "code",
   "execution_count": null,
   "metadata": {
    "ExecuteTime": {
     "end_time": "2019-08-10T13:10:17.898000Z",
     "start_time": "2019-08-10T13:10:16.175000Z"
    }
   },
   "outputs": [],
   "source": [
    "'''\n",
    "归一化，树模型暂时不需要归一\n",
    "'''\n",
    "# import re\n",
    "# sc = StandardScaler()\n",
    "# total = sc.fit_transform(total)\n",
    "\n",
    "# 只归一化mean\n",
    "# feature_mean = []\n",
    "# for col in total.columns:\n",
    "#     if re.search(r'.*(mean).*', col) != None:\n",
    "#         feature_mean.append(col)\n",
    "# total[feature_mean] = sc.fit_transform(total[feature_mean])"
   ]
  },
  {
   "cell_type": "code",
   "execution_count": 28,
   "metadata": {
    "ExecuteTime": {
     "end_time": "2019-08-12T00:59:54.028405Z",
     "start_time": "2019-08-12T00:59:54.008405Z"
    }
   },
   "outputs": [],
   "source": [
    "from sklearn.model_selection import cross_val_score\n",
    "from sklearn.ensemble import GradientBoostingRegressor\n",
    "from sklearn.metrics import mean_squared_error"
   ]
  },
  {
   "cell_type": "code",
   "execution_count": 29,
   "metadata": {
    "ExecuteTime": {
     "end_time": "2019-08-12T01:07:49.549405Z",
     "start_time": "2019-08-12T01:05:30.992405Z"
    }
   },
   "outputs": [
    {
     "data": {
      "text/plain": [
       "GradientBoostingRegressor(alpha=0.9, criterion='friedman_mse', init=None,\n",
       "             learning_rate=0.1, loss='ls', max_depth=3, max_features=None,\n",
       "             max_leaf_nodes=None, min_impurity_decrease=0.0,\n",
       "             min_impurity_split=None, min_samples_leaf=1,\n",
       "             min_samples_split=2, min_weight_fraction_leaf=0.0,\n",
       "             n_estimators=70, n_iter_no_change=None, presort='auto',\n",
       "             random_state=3038, subsample=1.0, tol=0.0001,\n",
       "             validation_fraction=0.1, verbose=0, warm_start=False)"
      ]
     },
     "execution_count": 29,
     "metadata": {},
     "output_type": "execute_result"
    }
   ],
   "source": [
    "GBRT = GradientBoostingRegressor(n_estimators=70, learning_rate=0.1, random_state=3038)\n",
    "GBRT.fit(x_train, y_train)"
   ]
  },
  {
   "cell_type": "code",
   "execution_count": 36,
   "metadata": {
    "ExecuteTime": {
     "end_time": "2019-08-12T01:34:51.397405Z",
     "start_time": "2019-08-12T01:21:47.127405Z"
    }
   },
   "outputs": [
    {
     "name": "stdout",
     "output_type": "stream",
     "text": [
      "train scrore =  [-324.77662751  -32.12189984  -25.65909367  -20.88929522  -78.71955152]\n"
     ]
    }
   ],
   "source": [
    "y_ = GBRT.predict(x_submission)\n",
    "print('train scrore = ', cross_val_score(GBRT, x_train, y_train, scoring='neg_mean_squared_error', cv=5, n_jobs=-1))"
   ]
  },
  {
   "cell_type": "code",
   "execution_count": 37,
   "metadata": {
    "ExecuteTime": {
     "end_time": "2019-08-12T01:36:53.817405Z",
     "start_time": "2019-08-12T01:36:53.809405Z"
    }
   },
   "outputs": [
    {
     "data": {
      "text/plain": [
       "482.16646776"
      ]
     },
     "execution_count": 37,
     "metadata": {},
     "output_type": "execute_result"
    }
   ],
   "source": [
    "-np.mean([-324.77662751  -32.12189984  -25.65909367  -20.88929522  -78.71955152])"
   ]
  },
  {
   "cell_type": "markdown",
   "metadata": {},
   "source": [
    "baseline model GBRT  \n",
    "train scrore =  [-324.77662751  -32.12189984  -25.65909367  -20.88929522  -78.71955152]  \n",
    "mean_RMSE = 482.16646776"
   ]
  },
  {
   "cell_type": "code",
   "execution_count": 71,
   "metadata": {
    "ExecuteTime": {
     "end_time": "2019-08-12T02:01:01.917405Z",
     "start_time": "2019-08-12T02:01:01.896405Z"
    }
   },
   "outputs": [],
   "source": [
    "feature = np.array(['date_block_num', 'item_id', 'new_category_id',\n",
    "       'shop_city', 'shop_id', 'shop_id_cnt_month_mean_1_lag',\n",
    "       'shop_id_cnt_month_mean_2_lag', 'shop_id_cnt_month_mean_3_lag',\n",
    "       'shop_id_cnt_month_mean_4_lag', 'shop_id_cnt_month_mean_6_lag',\n",
    "       'shop_id_cnt_month_mean_12_lag', 'item_id_cnt_month_mean_1_lag',\n",
    "       'item_id_cnt_month_mean_2_lag', 'item_id_cnt_month_mean_3_lag',\n",
    "       'item_id_cnt_month_mean_4_lag', 'item_id_cnt_month_mean_6_lag',\n",
    "       'item_id_cnt_month_mean_12_lag', 'new_category_id_cnt_month_mean_1_lag',\n",
    "       'new_category_id_cnt_month_mean_2_lag',\n",
    "       'new_category_id_cnt_month_mean_3_lag',\n",
    "       'new_category_id_cnt_month_mean_4_lag',\n",
    "       'new_category_id_cnt_month_mean_6_lag',\n",
    "       'new_category_id_cnt_month_mean_12_lag', 'item_value',\n",
    "       'shop_turnover_1_lag', 'shop_turnover_2_lag', 'shop_turnover_3_lag',\n",
    "       'shop_turnover_4_lag', 'shop_turnover_6_lag', 'shop_turnover_12_lag',\n",
    "       'item_turnover_per_1_lag', 'item_turnover_per_2_lag',\n",
    "       'item_turnover_per_3_lag', 'item_turnover_per_4_lag',\n",
    "       'item_turnover_per_6_lag', 'item_turnover_per_12_lag'])"
   ]
  },
  {
   "cell_type": "code",
   "execution_count": 43,
   "metadata": {
    "ExecuteTime": {
     "end_time": "2019-08-12T01:41:47.563405Z",
     "start_time": "2019-08-12T01:41:47.029405Z"
    },
    "scrolled": true
   },
   "outputs": [
    {
     "data": {
      "text/plain": [
       "<BarContainer object of 36 artists>"
      ]
     },
     "execution_count": 43,
     "metadata": {},
     "output_type": "execute_result"
    },
    {
     "data": {
      "image/png": "[encoded data removed]",
      "text/plain": [
       "<Figure size 432x288 with 1 Axes>"
      ]
     },
     "metadata": {
      "needs_background": "light"
     },
     "output_type": "display_data"
    }
   ],
   "source": [
    "plt.bar(feature, GBRT.feature_importances_)"
   ]
  },
  {
   "cell_type": "code",
   "execution_count": 79,
   "metadata": {
    "ExecuteTime": {
     "end_time": "2019-08-12T02:11:57.820405Z",
     "start_time": "2019-08-12T02:11:57.799405Z"
    }
   },
   "outputs": [
    {
     "name": "stdout",
     "output_type": "stream",
     "text": [
      "TOP 1 feature: item_id_cnt_month_mean_1_lag\n",
      "TOP 2 feature: shop_turnover_2_lag\n",
      "TOP 3 feature: shop_turnover_4_lag\n",
      "TOP 4 feature: shop_turnover_1_lag\n",
      "TOP 5 feature: item_id_cnt_month_mean_3_lag\n",
      "TOP 6 feature: shop_id_cnt_month_mean_4_lag\n",
      "TOP 7 feature: new_category_id_cnt_month_mean_1_lag\n",
      "TOP 8 feature: shop_id_cnt_month_mean_12_lag\n",
      "TOP 9 feature: item_turnover_per_1_lag\n",
      "TOP 10 feature: item_turnover_per_2_lag\n",
      "TOP 11 feature: shop_turnover_3_lag\n",
      "TOP 12 feature: shop_id_cnt_month_mean_1_lag\n",
      "TOP 13 feature: item_value\n",
      "TOP 14 feature: new_category_id_cnt_month_mean_12_lag\n",
      "TOP 15 feature: item_id\n",
      "TOP 16 feature: new_category_id\n",
      "TOP 17 feature: item_id_cnt_month_mean_12_lag\n",
      "TOP 18 feature: date_block_num\n",
      "TOP 19 feature: item_id_cnt_month_mean_6_lag\n",
      "TOP 20 feature: item_id_cnt_month_mean_2_lag\n",
      "TOP 21 feature: item_id_cnt_month_mean_4_lag\n",
      "TOP 22 feature: new_category_id_cnt_month_mean_6_lag\n",
      "TOP 23 feature: shop_id_cnt_month_mean_3_lag\n",
      "TOP 24 feature: item_turnover_per_3_lag\n",
      "TOP 25 feature: shop_id_cnt_month_mean_2_lag\n",
      "TOP 26 feature: shop_id_cnt_month_mean_6_lag\n",
      "TOP 27 feature: new_category_id_cnt_month_mean_4_lag\n",
      "TOP 28 feature: shop_turnover_12_lag\n",
      "TOP 29 feature: shop_id\n",
      "TOP 30 feature: shop_turnover_6_lag\n",
      "TOP 31 feature: shop_city\n",
      "TOP 32 feature: item_turnover_per_4_lag\n",
      "TOP 33 feature: new_category_id_cnt_month_mean_2_lag\n",
      "TOP 34 feature: item_turnover_per_6_lag\n",
      "TOP 35 feature: item_turnover_per_12_lag\n",
      "TOP 36 feature: new_category_id_cnt_month_mean_3_lag\n"
     ]
    }
   ],
   "source": [
    "TOP10_feature = GBRT.feature_importances_\n",
    "for i in range(36):\n",
    "    max_index = np.argmax(TOP10_feature)\n",
    "    print('TOP',i + 1,'feature:',feature[max_index])\n",
    "    TOP10_feature[max_index] = -1"
   ]
  },
  {
   "cell_type": "code",
   "execution_count": 95,
   "metadata": {
    "ExecuteTime": {
     "end_time": "2019-08-12T02:33:04.941405Z",
     "start_time": "2019-08-12T02:33:04.934405Z"
    }
   },
   "outputs": [],
   "source": [
    "y_[y_ > 20] = 20"
   ]
  },
  {
   "cell_type": "code",
   "execution_count": 96,
   "metadata": {
    "ExecuteTime": {
     "end_time": "2019-08-12T02:33:10.767405Z",
     "start_time": "2019-08-12T02:33:10.759405Z"
    }
   },
   "outputs": [],
   "source": [
    "sample_submission['item_cnt_month'] = y_"
   ]
  },
  {
   "cell_type": "code",
   "execution_count": 97,
   "metadata": {
    "ExecuteTime": {
     "end_time": "2019-08-12T02:33:12.719405Z",
     "start_time": "2019-08-12T02:33:11.990405Z"
    }
   },
   "outputs": [],
   "source": [
    "sample_submission.to_csv('./0812.csv', index=None)"
   ]
  },
  {
   "cell_type": "code",
   "execution_count": null,
   "metadata": {},
   "outputs": [],
   "source": []
  }
 ],
 "metadata": {
  "kernelspec": {
   "display_name": "Python 3",
   "language": "python",
   "name": "python3"
  },
  "language_info": {
   "codemirror_mode": {
    "name": "ipython",
    "version": 3
   },
   "file_extension": ".py",
   "mimetype": "text/x-python",
   "name": "python",
   "nbconvert_exporter": "python",
   "pygments_lexer": "ipython3",
   "version": "3.7.3"
  },
  "toc": {
   "base_numbering": 1,
   "nav_menu": {},
   "number_sections": true,
   "sideBar": true,
   "skip_h1_title": false,
   "title_cell": "Table of Contents",
   "title_sidebar": "Contents",
   "toc_cell": false,
   "toc_position": {
    "height": "calc(100% - 180px)",
    "left": "10px",
    "top": "150px",
    "width": "165px"
   },
   "toc_section_display": true,
   "toc_window_display": true
  },
  "varInspector": {
   "cols": {
    "lenName": 16,
    "lenType": 16,
    "lenVar": 40
   },
   "kernels_config": {
    "python": {
     "delete_cmd_postfix": "",
     "delete_cmd_prefix": "del ",
     "library": "var_list.py",
     "varRefreshCmd": "print(var_dic_list())"
    },
    "r": {
     "delete_cmd_postfix": ") ",
     "delete_cmd_prefix": "rm(",
     "library": "var_list.r",
     "varRefreshCmd": "cat(var_dic_list()) "
    }
   },
   "position": {
    "height": "578px",
    "left": "1579px",
    "right": "20px",
    "top": "120px",
    "width": "321px"
   },
   "types_to_exclude": [
    "module",
    "function",
    "builtin_function_or_method",
    "instance",
    "_Feature"
   ],
   "window_display": false
  }
 },
 "nbformat": 4,
 "nbformat_minor": 2
}
